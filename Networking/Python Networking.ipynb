{
 "cells": [
  {
   "cell_type": "code",
   "execution_count": null,
   "id": "deb633af",
   "metadata": {},
   "outputs": [],
   "source": [
    "import socket"
   ]
  },
  {
   "cell_type": "code",
   "execution_count": null,
   "id": "01ee71fa",
   "metadata": {},
   "outputs": [],
   "source": [
    "# server side\n",
    "import socket\n",
    "s=socket.socket(socket.AF_INET,socket.SOCK_STREAM) #af_inet for ipv4  and sock_stream is for TCP socket\n",
    "s.bind((socket.gethostname(),1234)) #binding socket to port on the server \n",
    "s.listen(3) #listen for incoming connection in queue of 3\n",
    "while True:\n",
    "    clientsocket,addr=s.accept()\n",
    "    print(f\"connection from {addr}\")\n"
   ]
  },
  {
   "cell_type": "code",
   "execution_count": null,
   "id": "571d08dd",
   "metadata": {},
   "outputs": [],
   "source": [
    "# Client side\n",
    "import socket\n",
    "s=socket.socket(socket.AF_INET,socket.SOCK_STREAM)\n",
    "s.connect((socket.gethostname(),1234))"
   ]
  },
  {
   "cell_type": "code",
   "execution_count": null,
   "id": "fb22274b",
   "metadata": {},
   "outputs": [],
   "source": [
    "import socket\n",
    "s=socket.socket()\n",
    "print(\"socket created\",s)\n",
    "s.bind(('localhost',1234))\n",
    "# s.bind(socket.gethostname(),9999)\n",
    "s.listen(3)\n",
    "print(\"waiting for connection\")\n",
    "while True:\n",
    "    c,addr=s.accept()\n",
    "    name=c.recv(1024).decode()\n",
    "    print(\"Connected with client\",addr,name)\n",
    "    c.send(bytes('welcome to python socket','UTF-8'))\n",
    "    print(\"Done\")\n",
    "    c.close()\n",
    "    "
   ]
  },
  {
   "cell_type": "code",
   "execution_count": null,
   "id": "515357a9",
   "metadata": {},
   "outputs": [],
   "source": [
    "# server\n",
    "import socket\n",
    "s = socket.socket()\n",
    "print(\"socket created\")\n",
    "s.bind(('localhost',1234))\n",
    "s.listen(3) \n",
    "print(\"waiting for connections\")\n",
    "while True:\n",
    "    c, addr = s.accept() #it returns for address and client socket\n",
    "    name=c.recv(1024).decode()\n",
    "    print(\"connected with client\", addr,name)\n",
    "    c.send(bytes(\"welcome to python socket\",'utf-8')) \n",
    "    c.close()"
   ]
  },
  {
   "cell_type": "code",
   "execution_count": 1,
   "id": "3f7f58a2",
   "metadata": {},
   "outputs": [
    {
     "name": "stdout",
     "output_type": "stream",
     "text": [
      "enter your name Ashish\n",
      "welcome to python socket\n"
     ]
    }
   ],
   "source": [
    "#client\n",
    "import socket\n",
    "c=socket.socket() \n",
    "c.connect(('localhost',1234))\n",
    "name=input(\"enter your name \")\n",
    "c.send(bytes(name,'utf-8'))\n",
    "print(c.recv(1024).decode())"
   ]
  },
  {
   "cell_type": "code",
   "execution_count": null,
   "id": "33fb271c",
   "metadata": {},
   "outputs": [],
   "source": [
    "#socket can send  and receive data "
   ]
  },
  {
   "cell_type": "code",
   "execution_count": null,
   "id": "dc754122",
   "metadata": {},
   "outputs": [],
   "source": [
    "# server.py\n",
    "import socket\n",
    "s=socket.socket(socket.AF_INET,socket.SOCK_STREAM) #af_inet for ipv4  and sock_stream is for TCP socket\n",
    "s.bind((socket.gethostname(),1234)) #binding socket to port on the server \n",
    "s.listen(3) #listen for incoming connection in queue of 3\n",
    "while True:\n",
    "    clientsocket,addr=s.accept()\n",
    "    print(f\"connection from {addr}\")\n",
    "    clientsocket.send(bytes(\"Welcome to UST\",'utf-8'))"
   ]
  },
  {
   "cell_type": "code",
   "execution_count": null,
   "id": "736cbe63",
   "metadata": {},
   "outputs": [],
   "source": [
    "# client.py\n",
    "import socket\n",
    "s=socket.socket(socket.AF_INET,socket.SOCK_STREAM)\n",
    "s.connect((socket.gethostname(),1234))\n",
    "msg=s.recv(1024)# receive data in buffer size of 1024 bytes\n",
    "print(msg.decode('utf-8'))"
   ]
  },
  {
   "cell_type": "code",
   "execution_count": null,
   "id": "e22491c1",
   "metadata": {},
   "outputs": [],
   "source": [
    "# import socket            \n",
    "# s = socket.socket()         \n",
    "# host = socket.gethostname() \n",
    "# port = 12345                \n",
    "# s.bind((host, port))        \n",
    "\n",
    "# s.listen(5)                 \n",
    "# while True:\n",
    "#    c, addr = s.accept() \n",
    "#    print 'Got connection from', addr\n",
    "#    c.send('Thank you for connecting')\n",
    "#    c.close()\n",
    "\n"
   ]
  },
  {
   "cell_type": "code",
   "execution_count": null,
   "id": "5afb35d6",
   "metadata": {},
   "outputs": [],
   "source": []
  }
 ],
 "metadata": {
  "kernelspec": {
   "display_name": "Python 3 (ipykernel)",
   "language": "python",
   "name": "python3"
  },
  "language_info": {
   "codemirror_mode": {
    "name": "ipython",
    "version": 3
   },
   "file_extension": ".py",
   "mimetype": "text/x-python",
   "name": "python",
   "nbconvert_exporter": "python",
   "pygments_lexer": "ipython3",
   "version": "3.9.7"
  }
 },
 "nbformat": 4,
 "nbformat_minor": 5
}

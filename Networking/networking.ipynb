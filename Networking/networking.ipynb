{
 "cells": [
  {
   "cell_type": "code",
   "execution_count": null,
   "id": "4acd0181",
   "metadata": {},
   "outputs": [],
   "source": [
    "# This is server.py file\n",
    "#Sockets are the endpoints of a bidirectional communications channel.\n",
    "import socket         #import socket module\n",
    "s = socket.socket()    #create a socket object\n",
    "print(\"socket created\")   #for confirmation\n",
    "s.bind(('localhost',9999)) #bind to the port -->(bind.((host,port)))-->to specify a port for your service on the given host.\n",
    "s.listen(3)          #now wait for client connection\n",
    "print(\"waiting for connections\") \n",
    "while True:  \n",
    " c, addr = s.accept()  #it returns for address and client socket-->(establishing the connection with client )\n",
    " name=c.recv(1024).decode() \n",
    " print(\"connected with client\", addr,name)\n",
    "\n",
    "\n",
    " c.send(bytes(\"welcome to python socket\",'utf-8')) \n",
    " c.close()  #Closing the coonection"
   ]
  },
  {
   "cell_type": "code",
   "execution_count": null,
   "id": "9265ef3e",
   "metadata": {},
   "outputs": [],
   "source": [
    "#!/usr/bin/python           # This is client.py file\n",
    "\n",
    "import socket   # Import socket module\n",
    "c=socket.socket()  # Create a socket object\n",
    "c.connect(('localhost',9999))\n",
    "name=input(\"enter your name \")\n",
    "c.send(bytes(name,'utf-8'))\n",
    "print(c.recv(1024).decode()) \n",
    "c.close()  # Close the socket when done"
   ]
  },
  {
   "cell_type": "code",
   "execution_count": null,
   "id": "71ef0a96",
   "metadata": {},
   "outputs": [],
   "source": []
  }
 ],
 "metadata": {
  "kernelspec": {
   "display_name": "Python 3 (ipykernel)",
   "language": "python",
   "name": "python3"
  },
  "language_info": {
   "codemirror_mode": {
    "name": "ipython",
    "version": 3
   },
   "file_extension": ".py",
   "mimetype": "text/x-python",
   "name": "python",
   "nbconvert_exporter": "python",
   "pygments_lexer": "ipython3",
   "version": "3.9.7"
  }
 },
 "nbformat": 4,
 "nbformat_minor": 5
}
